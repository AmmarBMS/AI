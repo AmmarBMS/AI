{
  "nbformat": 4,
  "nbformat_minor": 0,
  "metadata": {
    "colab": {
      "provenance": [],
      "authorship_tag": "ABX9TyM6TtXRiOaqeyecmtfLDM7z",
      "include_colab_link": true
    },
    "kernelspec": {
      "name": "python3",
      "display_name": "Python 3"
    },
    "language_info": {
      "name": "python"
    }
  },
  "cells": [
    {
      "cell_type": "markdown",
      "metadata": {
        "id": "view-in-github",
        "colab_type": "text"
      },
      "source": [
        "<a href=\"https://colab.research.google.com/github/AmmarBMS/AI/blob/main/AI_LAB5_simulated.ipynb\" target=\"_parent\"><img src=\"https://colab.research.google.com/assets/colab-badge.svg\" alt=\"Open In Colab\"/></a>"
      ]
    },
    {
      "cell_type": "code",
      "execution_count": 6,
      "metadata": {
        "colab": {
          "base_uri": "https://localhost:8080/"
        },
        "id": "oXMC58j3kirb",
        "outputId": "8151e4bf-340f-47dc-f4c6-20ec0d0436f4"
      },
      "outputs": [
        {
          "output_type": "stream",
          "name": "stdout",
          "text": [
            "Enter the size of the board (N): 8\n",
            "Enter the initial state as a list of 8 integers (e.g., [0, 4, 7, 5, 2, 6, 1, 3]): 1,4,5,6,9,8,3,2\n",
            "Iteration 100: Current Conflicts = 7\n",
            "Iteration 200: Current Conflicts = 9\n",
            "Iteration 300: Current Conflicts = 9\n",
            "Iteration 400: Current Conflicts = 6\n",
            "Iteration 500: Current Conflicts = 2\n",
            "Iteration 600: Current Conflicts = 6\n",
            "Iteration 700: Current Conflicts = 1\n",
            "Iteration 800: Current Conflicts = 3\n",
            "Iteration 900: Current Conflicts = 2\n",
            "Iteration 1000: Current Conflicts = 2\n",
            "Iteration 1100: Current Conflicts = 1\n",
            "Iteration 1200: Current Conflicts = 1\n",
            "Solution found in 1283 iterations!\n",
            "Solution found!\n",
            "Board configuration: [5, 1, 6, 0, 3, 7, 4, 2]\n"
          ]
        }
      ],
      "source": [
        "import random\n",
        "import math\n",
        "\n",
        "def calculate_conflicts(board):\n",
        "\n",
        "    conflict_count = 0\n",
        "    for i in range(len(board)):\n",
        "        for j in range(i + 1, len(board)):\n",
        "            if board[i] == board[j]:\n",
        "                conflict_count += 1\n",
        "            if abs(board[i] - board[j]) == abs(i - j):\n",
        "                conflict_count += 1\n",
        "    return conflict_count\n",
        "\n",
        "def make_random_move(board):\n",
        "\n",
        "    new_board = board[:]\n",
        "    col = random.randint(0, len(board) - 1)\n",
        "    new_row = random.randint(0, len(board) - 1)\n",
        "    new_board[col] = new_row\n",
        "    return new_board\n",
        "\n",
        "def simulated_annealing(board_size, initial_board):\n",
        "\n",
        "    current_board = initial_board[:]\n",
        "    current_conflicts = calculate_conflicts(current_board)\n",
        "\n",
        "    initial_temperature = 1000\n",
        "    min_temperature = 0.0001\n",
        "    cooling_rate = 0.99\n",
        "\n",
        "    iteration_count = 0\n",
        "\n",
        "    while initial_temperature > min_temperature and current_conflicts > 0:\n",
        "        iteration_count += 1\n",
        "        if iteration_count % 100 == 0:\n",
        "            print(f\"Iteration {iteration_count}: Current Conflicts = {current_conflicts}\")\n",
        "\n",
        "\n",
        "        new_board = make_random_move(current_board)\n",
        "        new_conflicts = calculate_conflicts(new_board)\n",
        "\n",
        "\n",
        "        energy_change = new_conflicts - current_conflicts\n",
        "\n",
        "\n",
        "        if energy_change < 0 or random.uniform(0, 1) < math.exp(-energy_change / initial_temperature):\n",
        "            current_board, current_conflicts = new_board, new_conflicts\n",
        "\n",
        "\n",
        "        initial_temperature *= cooling_rate\n",
        "\n",
        "\n",
        "        if current_conflicts == 0:\n",
        "            print(f\"Solution found in {iteration_count} iterations!\")\n",
        "            break\n",
        "\n",
        "    return current_board, current_conflicts\n",
        "\n",
        "\n",
        "board_size = int(input(\"Enter the size of the board (N): \"))\n",
        "\n",
        "\n",
        "initial_state_input = input(f\"Enter the initial state as a list of {board_size} integers (e.g., [0, 4, 7, 5, 2, 6, 1, 3]): \")\n",
        "\n",
        "\n",
        "initial_board = [int(x) for x in initial_state_input.strip('[]').split(',')]\n",
        "\n",
        "\n",
        "if len(initial_board) != board_size:\n",
        "    print(f\"Error: The initial state must have exactly {board_size} integers.\")\n",
        "else:\n",
        "\n",
        "    final_board, final_conflicts = simulated_annealing(board_size, initial_board)\n",
        "\n",
        "\n",
        "    if final_conflicts == 0:\n",
        "        print(\"Solution found!\")\n",
        "        print(\"Board configuration:\", final_board)\n",
        "    else:\n",
        "        print(\"Solution not found. Final conflicts:\", final_conflicts)\n"
      ]
    }
  ]
}