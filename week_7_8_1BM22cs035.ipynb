{
  "nbformat": 4,
  "nbformat_minor": 0,
  "metadata": {
    "colab": {
      "provenance": [],
      "authorship_tag": "ABX9TyMpcZZ6yGoTd/ManUot0Phh",
      "include_colab_link": true
    },
    "kernelspec": {
      "name": "python3",
      "display_name": "Python 3"
    },
    "language_info": {
      "name": "python"
    }
  },
  "cells": [
    {
      "cell_type": "markdown",
      "metadata": {
        "id": "view-in-github",
        "colab_type": "text"
      },
      "source": [
        "<a href=\"https://colab.research.google.com/github/AmmarBMS/AI/blob/main/week_7_8_1BM22cs035.ipynb\" target=\"_parent\"><img src=\"https://colab.research.google.com/assets/colab-badge.svg\" alt=\"Open In Colab\"/></a>"
      ]
    },
    {
      "cell_type": "code",
      "execution_count": 9,
      "metadata": {
        "colab": {
          "base_uri": "https://localhost:8080/"
        },
        "id": "kf9Fu0_-oOCV",
        "outputId": "e7548ec7-0a54-4e54-ddf1-bf8fd2505c90"
      },
      "outputs": [
        {
          "output_type": "stream",
          "name": "stdout",
          "text": [
            "Unification successful. Substitutions: {'P': 'robert', 'Q': 'apple'}\n"
          ]
        }
      ],
      "source": [
        "class UnificationError(Exception):\n",
        "    pass\n",
        "\n",
        "def unify(term1, term2, substitutions=None):\n",
        "    if substitutions is None:\n",
        "        substitutions = {}\n",
        "\n",
        "\n",
        "    if term1 == term2:\n",
        "        return substitutions\n",
        "\n",
        "\n",
        "    elif isinstance(term1, str) and term1.isupper():\n",
        "        return unify_var(term1, term2, substitutions)\n",
        "    elif isinstance(term2, str) and term2.isupper():\n",
        "        return unify_var(term2, term1, substitutions)\n",
        "\n",
        "\n",
        "    elif isinstance(term1, list) and isinstance(term2, list):\n",
        "        if len(term1) != len(term2):\n",
        "            raise UnificationError(f\"Cannot unify terms of different lengths: {term1} and {term2}\")\n",
        "        for subterm1, subterm2 in zip(term1, term2):\n",
        "            substitutions = unify(subterm1, subterm2, substitutions)\n",
        "        return substitutions\n",
        "\n",
        "\n",
        "    else:\n",
        "        raise UnificationError(f\"Cannot unify {term1} with {term2}\")\n",
        "\n",
        "def unify_var(var, term, substitutions):\n",
        "    if var in substitutions:\n",
        "        return unify(substitutions[var], term, substitutions)\n",
        "\n",
        "\n",
        "    if term == var:\n",
        "        return substitutions\n",
        "\n",
        "\n",
        "    substitutions[var] = term\n",
        "    return substitutions\n",
        "\n",
        "\n",
        "try:\n",
        "    term1 = ['f', 'P', ['eat', 'apple']]\n",
        "    term2 = ['f', 'robert', ['eat', 'Q']]\n",
        "    substitutions = unify(term1, term2)\n",
        "    print(\"Unification successful. Substitutions:\", substitutions)\n",
        "except UnificationError as e:\n",
        "    print(\"Unification failed:\", e)"
      ]
    },
    {
      "cell_type": "code",
      "source": [
        "# Define the knowledge base as a list of rules and facts\n",
        "\n",
        "class KnowledgeBase:\n",
        "    def __init__(self):\n",
        "        self.facts = set()   # Set of known facts\n",
        "        self.rules = []      # List of rules\n",
        "\n",
        "    def add_fact(self, fact):\n",
        "        self.facts.add(fact)\n",
        "\n",
        "    def add_rule(self, rule):\n",
        "        self.rules.append(rule)\n",
        "\n",
        "    def infer(self):\n",
        "        inferred = True\n",
        "        while inferred:\n",
        "            inferred = False\n",
        "            for rule in self.rules:\n",
        "                if rule.apply(self.facts):\n",
        "                    inferred = True\n",
        "\n",
        "# Define the Rule class\n",
        "class Rule:\n",
        "    def __init__(self, premises, conclusion):\n",
        "        self.premises = premises  # List of conditions\n",
        "        self.conclusion = conclusion  # Conclusion to add if premises are met\n",
        "\n",
        "    def apply(self, facts):\n",
        "        if all(premise in facts for premise in self.premises):\n",
        "            if self.conclusion not in facts:\n",
        "                facts.add(self.conclusion)\n",
        "                print(f\"Inferred: {self.conclusion}\")\n",
        "                return True\n",
        "        return False\n",
        "\n",
        "# Initialize the knowledge base for Poirot's case\n",
        "kb = KnowledgeBase()\n",
        "\n",
        "# Facts in the case\n",
        "kb.add_fact(\"Detective(Poirot)\")  # Poirot is a detective\n",
        "kb.add_fact(\"Witness(Elizabeth)\")  # Elizabeth is a witness\n",
        "kb.add_fact(\"Alibi(Elizabeth, Paris)\")  # Elizabeth's alibi is in Paris\n",
        "kb.add_fact(\"Murder(Victor)\")  # Victor has been murdered\n",
        "kb.add_fact(\"Suspect(John)\")  # John is a suspect in the murder\n",
        "\n",
        "# Rules based on the case\n",
        "# 1. If someone has an alibi, they are not the murderer\n",
        "kb.add_rule(Rule([\"Alibi(Elizabeth, Paris)\"], \"NotMurderer(Elizabeth)\"))\n",
        "\n",
        "# 2. If a suspect was seen near the crime scene, they are suspicious\n",
        "kb.add_rule(Rule([\"Suspect(John)\", \"NearCrimeScene(John)\"], \"Suspicious(John)\"))\n",
        "\n",
        "# 3. If someone is suspicious and has a motive, they are guilty\n",
        "kb.add_rule(Rule([\"Suspicious(John)\", \"Motive(John, Victor)\"], \"Guilty(John)\"))\n",
        "\n",
        "# 4. Poirot is always right in his deductions if the facts are clear\n",
        "kb.add_rule(Rule([\"Detective(Poirot)\", \"Guilty(John)\"], \"PoirotConclusion(John)\"))\n",
        "\n",
        "# Add some more facts to support the reasoning\n",
        "kb.add_fact(\"NearCrimeScene(John)\")  # John was seen near the crime scene\n",
        "kb.add_fact(\"Motive(John, Victor)\")  # John had a motive to kill Victor\n",
        "\n",
        "# Infer new facts based on the rules\n",
        "kb.infer()\n",
        "\n",
        "# Check if Poirot concludes that John is guilty\n",
        "if \"PoirotConclusion(John)\" in kb.facts:\n",
        "    print(\"Conclusion: Poirot concludes that John is guilty.\")\n",
        "else:\n",
        "    print(\"Conclusion: Poirot could not conclude that John is guilty.\")\n"
      ],
      "metadata": {
        "colab": {
          "base_uri": "https://localhost:8080/"
        },
        "id": "J5Qm96-Et12b",
        "outputId": "e24fbf4b-89ac-4da7-c631-f276234613dc"
      },
      "execution_count": 8,
      "outputs": [
        {
          "output_type": "stream",
          "name": "stdout",
          "text": [
            "Inferred: NotMurderer(Elizabeth)\n",
            "Inferred: Suspicious(John)\n",
            "Inferred: Guilty(John)\n",
            "Inferred: PoirotConclusion(John)\n",
            "Conclusion: Poirot concludes that John is guilty.\n"
          ]
        }
      ]
    }
  ]
}